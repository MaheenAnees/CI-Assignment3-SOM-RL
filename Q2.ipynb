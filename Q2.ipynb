{
  "nbformat": 4,
  "nbformat_minor": 0,
  "metadata": {
    "colab": {
      "name": "SOM_Maheen.ipynb",
      "provenance": [],
      "collapsed_sections": []
    },
    "kernelspec": {
      "name": "python3",
      "display_name": "Python 3"
    },
    "language_info": {
      "name": "python"
    }
  },
  "cells": [
    {
      "cell_type": "code",
      "metadata": {
        "colab": {
          "base_uri": "https://localhost:8080/"
        },
        "id": "wxRcSo7huKOy",
        "outputId": "3a0cc712-8273-4da3-ba60-801bb5c5adba"
      },
      "source": [
        "import numpy as np\n",
        "from matplotlib import pyplot as plt\n",
        "from matplotlib import patches as patches\n",
        "from matplotlib import colors as colors\n",
        "from matplotlib import animation\n",
        "from matplotlib import colorbar\n",
        "import pandas as pd\n",
        "import math\n",
        "from sklearn import preprocessing\n",
        "!pip install --upgrade geopandas\n",
        "!pip install --upgrade pyshp\n",
        "!pip install --upgrade shapely\n",
        "!pip install --upgrade descartes\n",
        "!pip install --upgrade mapclassify\n",
        "!pip install pycountry\n",
        "\n",
        "import pycountry \n",
        "import geopandas"
      ],
      "execution_count": null,
      "outputs": [
        {
          "output_type": "stream",
          "text": [
            "Requirement already up-to-date: geopandas in /usr/local/lib/python3.7/dist-packages (0.9.0)\n",
            "Requirement already satisfied, skipping upgrade: pyproj>=2.2.0 in /usr/local/lib/python3.7/dist-packages (from geopandas) (3.0.1)\n",
            "Requirement already satisfied, skipping upgrade: fiona>=1.8 in /usr/local/lib/python3.7/dist-packages (from geopandas) (1.8.19)\n",
            "Requirement already satisfied, skipping upgrade: shapely>=1.6 in /usr/local/lib/python3.7/dist-packages (from geopandas) (1.7.1)\n",
            "Requirement already satisfied, skipping upgrade: pandas>=0.24.0 in /usr/local/lib/python3.7/dist-packages (from geopandas) (1.1.5)\n",
            "Requirement already satisfied, skipping upgrade: certifi in /usr/local/lib/python3.7/dist-packages (from pyproj>=2.2.0->geopandas) (2020.12.5)\n",
            "Requirement already satisfied, skipping upgrade: munch in /usr/local/lib/python3.7/dist-packages (from fiona>=1.8->geopandas) (2.5.0)\n",
            "Requirement already satisfied, skipping upgrade: click-plugins>=1.0 in /usr/local/lib/python3.7/dist-packages (from fiona>=1.8->geopandas) (1.1.1)\n",
            "Requirement already satisfied, skipping upgrade: attrs>=17 in /usr/local/lib/python3.7/dist-packages (from fiona>=1.8->geopandas) (20.3.0)\n",
            "Requirement already satisfied, skipping upgrade: six>=1.7 in /usr/local/lib/python3.7/dist-packages (from fiona>=1.8->geopandas) (1.15.0)\n",
            "Requirement already satisfied, skipping upgrade: cligj>=0.5 in /usr/local/lib/python3.7/dist-packages (from fiona>=1.8->geopandas) (0.7.1)\n",
            "Requirement already satisfied, skipping upgrade: click<8,>=4.0 in /usr/local/lib/python3.7/dist-packages (from fiona>=1.8->geopandas) (7.1.2)\n",
            "Requirement already satisfied, skipping upgrade: numpy>=1.15.4 in /usr/local/lib/python3.7/dist-packages (from pandas>=0.24.0->geopandas) (1.19.5)\n",
            "Requirement already satisfied, skipping upgrade: python-dateutil>=2.7.3 in /usr/local/lib/python3.7/dist-packages (from pandas>=0.24.0->geopandas) (2.8.1)\n",
            "Requirement already satisfied, skipping upgrade: pytz>=2017.2 in /usr/local/lib/python3.7/dist-packages (from pandas>=0.24.0->geopandas) (2018.9)\n",
            "Requirement already up-to-date: pyshp in /usr/local/lib/python3.7/dist-packages (2.1.3)\n",
            "Requirement already up-to-date: shapely in /usr/local/lib/python3.7/dist-packages (1.7.1)\n",
            "Requirement already up-to-date: descartes in /usr/local/lib/python3.7/dist-packages (1.1.0)\n",
            "Requirement already satisfied, skipping upgrade: matplotlib in /usr/local/lib/python3.7/dist-packages (from descartes) (3.2.2)\n",
            "Requirement already satisfied, skipping upgrade: kiwisolver>=1.0.1 in /usr/local/lib/python3.7/dist-packages (from matplotlib->descartes) (1.3.1)\n",
            "Requirement already satisfied, skipping upgrade: pyparsing!=2.0.4,!=2.1.2,!=2.1.6,>=2.0.1 in /usr/local/lib/python3.7/dist-packages (from matplotlib->descartes) (2.4.7)\n",
            "Requirement already satisfied, skipping upgrade: numpy>=1.11 in /usr/local/lib/python3.7/dist-packages (from matplotlib->descartes) (1.19.5)\n",
            "Requirement already satisfied, skipping upgrade: cycler>=0.10 in /usr/local/lib/python3.7/dist-packages (from matplotlib->descartes) (0.10.0)\n",
            "Requirement already satisfied, skipping upgrade: python-dateutil>=2.1 in /usr/local/lib/python3.7/dist-packages (from matplotlib->descartes) (2.8.1)\n",
            "Requirement already satisfied, skipping upgrade: six in /usr/local/lib/python3.7/dist-packages (from cycler>=0.10->matplotlib->descartes) (1.15.0)\n",
            "Requirement already up-to-date: mapclassify in /usr/local/lib/python3.7/dist-packages (2.4.2)\n",
            "Requirement already satisfied, skipping upgrade: scipy>=1.0 in /usr/local/lib/python3.7/dist-packages (from mapclassify) (1.4.1)\n",
            "Requirement already satisfied, skipping upgrade: numpy>=1.3 in /usr/local/lib/python3.7/dist-packages (from mapclassify) (1.19.5)\n",
            "Requirement already satisfied, skipping upgrade: scikit-learn in /usr/local/lib/python3.7/dist-packages (from mapclassify) (0.22.2.post1)\n",
            "Requirement already satisfied, skipping upgrade: pandas>=1.0 in /usr/local/lib/python3.7/dist-packages (from mapclassify) (1.1.5)\n",
            "Requirement already satisfied, skipping upgrade: networkx in /usr/local/lib/python3.7/dist-packages (from mapclassify) (2.5.1)\n",
            "Requirement already satisfied, skipping upgrade: joblib>=0.11 in /usr/local/lib/python3.7/dist-packages (from scikit-learn->mapclassify) (1.0.1)\n",
            "Requirement already satisfied, skipping upgrade: pytz>=2017.2 in /usr/local/lib/python3.7/dist-packages (from pandas>=1.0->mapclassify) (2018.9)\n",
            "Requirement already satisfied, skipping upgrade: python-dateutil>=2.7.3 in /usr/local/lib/python3.7/dist-packages (from pandas>=1.0->mapclassify) (2.8.1)\n",
            "Requirement already satisfied, skipping upgrade: decorator<5,>=4.3 in /usr/local/lib/python3.7/dist-packages (from networkx->mapclassify) (4.4.2)\n",
            "Requirement already satisfied, skipping upgrade: six>=1.5 in /usr/local/lib/python3.7/dist-packages (from python-dateutil>=2.7.3->pandas>=1.0->mapclassify) (1.15.0)\n",
            "Requirement already satisfied: pycountry in /usr/local/lib/python3.7/dist-packages (20.7.3)\n"
          ],
          "name": "stdout"
        }
      ]
    },
    {
      "cell_type": "code",
      "metadata": {
        "id": "bfQyojbz1YLa"
      },
      "source": [
        "data = pd.read_csv('time-series-19-covid-combined.csv')\n",
        "data['month'] = pd.DatetimeIndex(data['Date']).month\n",
        "df = pd.DataFrame(data, columns=data.columns)"
      ],
      "execution_count": null,
      "outputs": []
    },
    {
      "cell_type": "code",
      "metadata": {
        "id": "E9MFH0ZFyiIX"
      },
      "source": [
        "# normalizing feature values using minmax scalar from sklearn\n",
        "scaler = preprocessing.MinMaxScaler()\n",
        "fit = scaler.fit_transform(df[['Lat','Long', 'Confirmed', 'Recovered', 'Deaths']])\n",
        "df[['Lat','Long', 'Confirmed', 'Recovered', 'Deaths']] = fit"
      ],
      "execution_count": null,
      "outputs": []
    },
    {
      "cell_type": "code",
      "metadata": {
        "id": "cjwJjmWSxFOp"
      },
      "source": [
        "# SOM Parameters\n",
        "lr=0.05\n",
        "iterations= 1000\n",
        "m = 10\n",
        "n = 10\n",
        "radius = max(m, n) / 2\n",
        "time_constant = iterations / math.log(radius)"
      ],
      "execution_count": null,
      "outputs": []
    },
    {
      "cell_type": "code",
      "metadata": {
        "id": "maWsrlrZzIqW"
      },
      "source": [
        "# initialize net\n",
        "rng = np.random.default_rng()\n",
        "map = rng.random((m, n, 5))\n",
        "# print(map)"
      ],
      "execution_count": null,
      "outputs": []
    },
    {
      "cell_type": "code",
      "metadata": {
        "id": "oIJoBfv5zzam"
      },
      "source": [
        "# helper functions\n",
        "def distance(w, t):\n",
        "    dist = 0\n",
        "    for i in range(w.shape[0]):\n",
        "      dist += abs(w[i] - t[i])**2\n",
        "    return dist\n",
        " \n",
        "def BMU(t, map:np.array):\n",
        "  bmu_idx = [0, 0]\n",
        "  min_dist = math.inf\n",
        " \n",
        "  for i in range(map.shape[0]):\n",
        "    for j in range(map.shape[1]):\n",
        "      w = map[i, j, :]\n",
        "      dist = distance(w, t)\n",
        "      if dist < min_dist:\n",
        "        min_dist = dist\n",
        "        bmu_idx = [i, j]\n",
        " \n",
        "  # bmu_idx = map[bmu_idx[0], bmu_idx[1], :]\n",
        "  return bmu_idx\n",
        " \n",
        "def decay_vals(i, radius, lr, time_constant, iterations):\n",
        "  rad_upd = radius*math.exp(-i/time_constant)\n",
        "  lr_upd = lr*math.exp(-i/iterations)\n",
        "  return rad_upd, lr_upd\n",
        " \n",
        "def influence(distance, radius):\n",
        "  return math.exp(-distance / (2 * (radius**2)))\n",
        "\n",
        "def alpha3code(column):\n",
        "    CODE=[]\n",
        "    for country in column:\n",
        "        try:\n",
        "            code=pycountry.countries.get(name=country).alpha_3\n",
        "           # .alpha_3 means 3-letter country code \n",
        "           # .alpha_2 means 2-letter country code\n",
        "            CODE.append(code)\n",
        "        except:\n",
        "            CODE.append('None')\n",
        "    return CODE"
      ],
      "execution_count": null,
      "outputs": []
    },
    {
      "cell_type": "code",
      "metadata": {
        "id": "jtW8z1P60q-D"
      },
      "source": [
        "def SOM(data):\n",
        "  cmap = plt.get_cmap('plasma')\n",
        "  norm = colors.Normalize(vmin=0, vmax=1)\n",
        "  ims = []\n",
        "  fig, ax = plt.subplots()\n",
        "\n",
        "  ft_idx = [2, 3, 5, 6, 7]\n",
        "  for k in range(iterations):\n",
        "    t = [data.sample().to_numpy()[0][i] for i in ft_idx]\n",
        "    bmu = BMU(t, map)\n",
        "    radius_decay, lr_decay = decay_vals(k, radius, lr, time_constant, iterations)\n",
        "    # print(lr, lr_decay)\n",
        "    # print(radius_decay)\n",
        "    for i in range(m):\n",
        "      for j in range(n):\n",
        "        w = map[i, j, :]\n",
        "        dist = (bmu[0] - i)**2 + ((bmu[1] - j))**2 # dist of weight from bmu\n",
        "        if dist <= radius_decay**2:\n",
        "          inf = influence(dist, radius_decay)\n",
        "          map[i, j, :] = w + (lr_decay * inf * (t - w))\n",
        "    if k % 100 == 0:\n",
        "      output = np.sum(map, axis=2)\n",
        "      im = plt.imshow((output/np.max(output)), animated=True, cmap=cmap, norm=norm)      \n",
        "      ims.append([im])\n",
        "\n",
        "  fig, ax = plt.subplots(figsize=(6, 1))\n",
        "  fig.subplots_adjust(bottom=0.5)\n",
        "  cb1 = colorbar.ColorbarBase(ax, cmap=cmap,\n",
        "                                norm=norm,\n",
        "                                orientation='horizontal')\n",
        "  plt.show()"
      ],
      "execution_count": null,
      "outputs": []
    },
    {
      "cell_type": "code",
      "metadata": {
        "colab": {
          "base_uri": "https://localhost:8080/",
          "height": 323
        },
        "id": "Y7kNNkf4LY72",
        "outputId": "12731e4a-e68d-4937-ce65-51ef781c3124"
      },
      "source": [
        "SOM(data)"
      ],
      "execution_count": null,
      "outputs": [
        {
          "output_type": "display_data",
          "data": {
            "image/png": "[encoded data removed]",
            "text/plain": [
              "<Figure size 432x288 with 1 Axes>"
            ]
          },
          "metadata": {
            "tags": [],
            "needs_background": "light"
          }
        },
        {
          "output_type": "display_data",
          "data": {
            "image/png": "[encoded data removed]",
            "text/plain": [
              "<Figure size 432x72 with 1 Axes>"
            ]
          },
          "metadata": {
            "tags": [],
            "needs_background": "light"
          }
        }
      ]
    },
    {
      "cell_type": "code",
      "metadata": {
        "colab": {
          "base_uri": "https://localhost:8080/",
          "height": 986
        },
        "id": "hU83DCKUL32s",
        "outputId": "ce7f232f-c923-42bc-bf31-ea5d6745c814"
      },
      "source": [
        "for i in range(1, 4):\n",
        "  monthly_data = data.loc[data['month'] == i]\n",
        "  print('Month no.', i)\n",
        "  if monthly_data.empty:\n",
        "    continue\n",
        "  else:\n",
        "    SOM(monthly_data)\n",
        "plt.show()"
      ],
      "execution_count": null,
      "outputs": [
        {
          "output_type": "stream",
          "text": [
            "Month no. 1\n"
          ],
          "name": "stdout"
        },
        {
          "output_type": "display_data",
          "data": {
            "image/png": "[encoded data removed]",
            "text/plain": [
              "<Figure size 432x288 with 1 Axes>"
            ]
          },
          "metadata": {
            "tags": [],
            "needs_background": "light"
          }
        },
        {
          "output_type": "display_data",
          "data": {
            "image/png": "[encoded data removed]",
            "text/plain": [
              "<Figure size 432x72 with 1 Axes>"
            ]
          },
          "metadata": {
            "tags": [],
            "needs_background": "light"
          }
        },
        {
          "output_type": "stream",
          "text": [
            "Month no. 2\n"
          ],
          "name": "stdout"
        },
        {
          "output_type": "display_data",
          "data": {
            "image/png": "[encoded data removed]",
            "text/plain": [
              "<Figure size 432x288 with 1 Axes>"
            ]
          },
          "metadata": {
            "tags": [],
            "needs_background": "light"
          }
        },
        {
          "output_type": "display_data",
          "data": {
            "image/png": "[encoded data removed]",
            "text/plain": [
              "<Figure size 432x72 with 1 Axes>"
            ]
          },
          "metadata": {
            "tags": [],
            "needs_background": "light"
          }
        },
        {
          "output_type": "stream",
          "text": [
            "Month no. 3\n"
          ],
          "name": "stdout"
        },
        {
          "output_type": "display_data",
          "data": {
            "image/png": "[encoded data removed]",
            "text/plain": [
              "<Figure size 432x288 with 1 Axes>"
            ]
          },
          "metadata": {
            "tags": [],
            "needs_background": "light"
          }
        },
        {
          "output_type": "display_data",
          "data": {
            "image/png": "[encoded data removed]",
            "text/plain": [
              "<Figure size 432x72 with 1 Axes>"
            ]
          },
          "metadata": {
            "tags": [],
            "needs_background": "light"
          }
        }
      ]
    },
    {
      "cell_type": "code",
      "metadata": {
        "id": "72gZQH0DufYu"
      },
      "source": [
        "def visualizeWorld(data, map):\n",
        "    ''' reference: https://melaniesoek0120.medium.com/data-visualization-how-to-plot-a-map-with-geopandas-in-python-73b10dcd4b4b '''\n",
        "    bmu = []\n",
        "    for idx, row in data.iterrows():\n",
        "      t = row[['Lat','Long', 'Confirmed', 'Recovered', 'Deaths']]\n",
        "      bmu_idx = BMU(t, map)\n",
        "      bmu.append(np.sum(map[bmu_idx[0],bmu_idx[1],:]))\n",
        "    data.loc[: , 'BMU'] = bmu\n",
        "\n",
        "    # print(data)\n",
        "    \n",
        "    # cmap = plt.get_cmap('plasma')\n",
        "    # norm = colors.Normalize(vmin=0, vmax=1)\n",
        "    # world = geopandas.read_file(geopandas.datasets.get_path('naturalearth_lowres'))\n",
        "    # # rename the columns so that we can merge with our data\n",
        "    # world.columns=['pop_est', 'continent', 'name', 'Country Code', 'gdp_md_est', 'geometry']\n",
        "    # merge=pd.merge(world, data,on='Country Code')\n",
        "    # location=pd.read_csv('country_centroids_az8.csv')\n",
        "    # location = location[['name', 'Longitude', 'Latitude']]\n",
        "    # location['name'].replace({'United States':'United States of America'}, inplace=True)\n",
        "    # merge=merge.merge(location,on='name')\n",
        "    # merge.plot(column='BMU',\n",
        "    #        figsize=(20, 10),\n",
        "    #        legend=True,cmap=cmap, norm=norm)\n",
        "    \n",
        "    \n",
        "    world = geopandas.read_file('time-series-19-covid-combined.csv')\n",
        "    # rename the columns so that we can merge with our data\n",
        "    world.columns=['State', 'Country', 'Lat',\t'Long',\t'Date',\t'Confirmed',\t'Recovered',\t'Deaths', 'geometry']\n",
        "    data['CODE']=alpha3code(data['Country/Region'])\n",
        "    world['CODE']=data['CODE']\n",
        "    location=pd.read_csv('centroids.csv')\n",
        "    location = location[['name', 'Longitude', 'Latitude']]\n",
        "    location['name'].replace({'United States':'United States of America'}, inplace=True)\n",
        "    print(world.head())\n",
        "    merge=pd.merge(world, data,on='CODE')\n",
        "    merge=merge.merge(location,on='name')\n",
        "    merge.plot(column='BMU',\n",
        "           figsize=(20, 10),\n",
        "           legend=True,cmap=cmap, norm=norm)\n",
        "    # merge=pd.merge(world,data,on='Country').sort_values(by='Confirmed',ascending=False).reset_index()\n",
        "    world.plot(column='Confirmed', scheme=\"quantiles\",\n",
        "           figsize=(25, 20),\n",
        "           legend=True,cmap=cmap)\n",
        "    plt.title('Confirmed Cases Around the World',fontsize=25)\n",
        "    plt.show()"
      ],
      "execution_count": null,
      "outputs": []
    },
    {
      "cell_type": "code",
      "metadata": {
        "id": "i7e_wr_ioUOO"
      },
      "source": [
        "# visualizeWorld(pd.read_csv('time-series-19-covid-combined.csv'), map)"
      ],
      "execution_count": null,
      "outputs": []
    }
  ]
}